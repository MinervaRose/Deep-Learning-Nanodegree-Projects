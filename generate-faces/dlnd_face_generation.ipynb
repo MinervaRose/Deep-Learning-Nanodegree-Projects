{
 "cells": [
  {
   "cell_type": "markdown",
   "metadata": {
    "colab_type": "text",
    "id": "MVLnPvpC4t8_"
   },
   "source": [
    "# Face Generation\n",
    "\n",
    "In this project, you'll define and train a DCGAN on a dataset of faces. Your goal is to get a generator network to generate *new* images of faces that look as realistic as possible!\n",
    "\n",
    "The project will be broken down into a series of tasks from **loading in data to defining and training adversarial networks**. At the end of the notebook, you'll be able to visualize the results of your trained Generator to see how it performs; your generated samples should look like fairly realistic faces with small amounts of noise.\n",
    "\n",
    "### Get the Data\n",
    "\n",
    "You'll be using the [CelebFaces Attributes Dataset (CelebA)](http://mmlab.ie.cuhk.edu.hk/projects/CelebA.html) to train your adversarial networks.\n",
    "\n",
    "This dataset is more complex than the number datasets (like MNIST or SVHN) you've been working with, and so, you should prepare to define deeper networks and train them for a longer time to get good results. It is suggested that you utilize a GPU for training.\n",
    "\n",
    "### Pre-processed Data\n",
    "\n",
    "Since the project's main focus is on building the GANs, we've done *some* of the pre-processing for you. Each of the CelebA images has been cropped to remove parts of the image that don't include a face, then resized down to 64x64x3 NumPy images. Some sample data is show below.\n",
    "\n",
    "<img src='assets/processed_face_data.png' width=60% />\n",
    "\n",
    "> If you are working locally, you can download this data [by clicking here](https://s3.amazonaws.com/video.udacity-data.com/topher/2018/November/5be7eb6f_processed-celeba-small/processed-celeba-small.zip)\n",
    "\n",
    "This is a zip file that you'll need to extract in the home directory of this notebook for further loading and processing. After extracting the data, you should be left with a directory of data `processed_celeba_small/`"
   ]
  },
  {
   "cell_type": "code",
   "execution_count": 0,
   "metadata": {
    "colab": {},
    "colab_type": "code",
    "id": "KX-nehxCLn0F"
   },
   "outputs": [],
   "source": [
    "from google.colab import drive"
   ]
  },
  {
   "cell_type": "code",
   "execution_count": 2,
   "metadata": {
    "colab": {
     "base_uri": "https://localhost:8080/",
     "height": 129
    },
    "colab_type": "code",
    "id": "0vBq5kmLLx_S",
    "outputId": "b98ccbfa-b36a-421f-a42b-c2a3f5eb82da"
   },
   "outputs": [
    {
     "name": "stdout",
     "output_type": "stream",
     "text": [
      "Go to this URL in a browser: https://accounts.google.com/o/oauth2/auth?client_id=947318989803-6bn6qk8qdgf4n4g3pfee6491hc0brc4i.apps.googleusercontent.com&redirect_uri=urn%3Aietf%3Awg%3Aoauth%3A2.0%3Aoob&scope=email%20https%3A%2F%2Fwww.googleapis.com%2Fauth%2Fdocs.test%20https%3A%2F%2Fwww.googleapis.com%2Fauth%2Fdrive%20https%3A%2F%2Fwww.googleapis.com%2Fauth%2Fdrive.photos.readonly%20https%3A%2F%2Fwww.googleapis.com%2Fauth%2Fpeopleapi.readonly&response_type=code\n",
      "\n",
      "Enter your authorization code:\n",
      "··········\n",
      "Mounted at /content/gdrive\n"
     ]
    }
   ],
   "source": [
    "drive.mount('/content/gdrive')"
   ]
  },
  {
   "cell_type": "code",
   "execution_count": 3,
   "metadata": {
    "colab": {
     "base_uri": "https://localhost:8080/",
     "height": 34
    },
    "colab_type": "code",
    "id": "h372jgk4L7eh",
    "outputId": "bfb221af-e466-4e4b-cb40-7205beb18158"
   },
   "outputs": [
    {
     "name": "stdout",
     "output_type": "stream",
     "text": [
      "/content/gdrive/My Drive/project-face-generation\n"
     ]
    }
   ],
   "source": [
    "cd/content/gdrive/My Drive/project-face-generation\n"
   ]
  },
  {
   "cell_type": "code",
   "execution_count": 4,
   "metadata": {
    "colab": {
     "base_uri": "https://localhost:8080/",
     "height": 182
    },
    "colab_type": "code",
    "id": "P2tJR2IGMCBA",
    "outputId": "b7f5d933-95a7-4bcf-9a58-90c907de2fcc"
   },
   "outputs": [
    {
     "name": "stdout",
     "output_type": "stream",
     "text": [
      " assets\n",
      "'Copie de Sabrinadlnd_face_generation.ipynb'\n",
      " __MACOSX\n",
      " problem_unittests.py\n",
      " processed_celeba_small\n",
      " processed_celeba_small.zip\n",
      "'processed_celeba_small.zip (Unzipped Files)'\n",
      " __pycache__\n"
     ]
    }
   ],
   "source": [
    "!ls"
   ]
  },
  {
   "cell_type": "code",
   "execution_count": 0,
   "metadata": {
    "colab": {
     "base_uri": "https://localhost:8080/",
     "height": 1412304
    },
    "colab_type": "code",
    "id": "UOwZ_TiX4t9C",
    "outputId": "6dcdecfd-c977-44fd-c2c2-74631e22c818"
   },
   "outputs": [],
   "source": [
    "# can comment out after executing\n",
    "#!unzip processed_celeba_small.zip"
   ]
  },
  {
   "cell_type": "code",
   "execution_count": 0,
   "metadata": {
    "colab": {},
    "colab_type": "code",
    "id": "mVnSwlWq4t9L"
   },
   "outputs": [],
   "source": [
    "data_dir = 'processed_celeba_small/'\n",
    "\n",
    "\"\"\"\n",
    "DON'T MODIFY ANYTHING IN THIS CELL\n",
    "\"\"\"\n",
    "import pickle as pkl\n",
    "import matplotlib.pyplot as plt\n",
    "import numpy as np\n",
    "import problem_unittests as tests\n",
    "#import helper\n",
    "\n",
    "%matplotlib inline"
   ]
  },
  {
   "cell_type": "code",
   "execution_count": 0,
   "metadata": {
    "colab": {},
    "colab_type": "code",
    "id": "F-ylXH4Mj2yP"
   },
   "outputs": [],
   "source": [
    "#import workspace_utils"
   ]
  },
  {
   "cell_type": "markdown",
   "metadata": {
    "colab_type": "text",
    "id": "1d0fZTJu4t9R"
   },
   "source": [
    "## Visualize the CelebA Data\n",
    "\n",
    "The [CelebA](http://mmlab.ie.cuhk.edu.hk/projects/CelebA.html) dataset contains over 200,000 celebrity images with annotations. Since you're going to be generating faces, you won't need the annotations, you'll only need the images. Note that these are color images with [3 color channels (RGB)](https://en.wikipedia.org/wiki/Channel_(digital_image)#RGB_Images) each.\n",
    "\n",
    "### Pre-process and Load the Data\n",
    "\n",
    "Since the project's main focus is on building the GANs, we've done *some* of the pre-processing for you. Each of the CelebA images has been cropped to remove parts of the image that don't include a face, then resized down to 64x64x3 NumPy images. This *pre-processed* dataset is a smaller subset of the very large CelebA data.\n",
    "\n",
    "> There are a few other steps that you'll need to **transform** this data and create a **DataLoader**.\n",
    "\n",
    "#### Exercise: Complete the following `get_dataloader` function, such that it satisfies these requirements:\n",
    "\n",
    "* Your images should be square, Tensor images of size `image_size x image_size` in the x and y dimension.\n",
    "* Your function should return a DataLoader that shuffles and batches these Tensor images.\n",
    "\n",
    "#### ImageFolder\n",
    "\n",
    "To create a dataset given a directory of images, it's recommended that you use PyTorch's [ImageFolder](https://pytorch.org/docs/stable/torchvision/datasets.html#imagefolder) wrapper, with a root directory `processed_celeba_small/` and data transformation passed in."
   ]
  },
  {
   "cell_type": "code",
   "execution_count": 0,
   "metadata": {
    "colab": {},
    "colab_type": "code",
    "id": "X8zzm76v4t9T"
   },
   "outputs": [],
   "source": [
    "# necessary imports\n",
    "import torch\n",
    "from torchvision import datasets\n",
    "from torchvision import transforms"
   ]
  },
  {
   "cell_type": "code",
   "execution_count": 0,
   "metadata": {
    "colab": {},
    "colab_type": "code",
    "id": "v-6lLadG4t9W"
   },
   "outputs": [],
   "source": [
    "def get_dataloader(batch_size, image_size, data_dir='processed_celeba_small.zip (Unzipped Files)/processed_celeba_small'):\n",
    "  \"\"\"\n",
    "    Batch the neural network data using DataLoader\n",
    "    :param batch_size: The size of each batch; the number of images in a batch\n",
    "    :param img_size: The square size of the image data (x, y)\n",
    "    :param data_dir: Directory where image data is located\n",
    "    :return: DataLoader with batched data\n",
    "    \"\"\"\n",
    "  data_transforms = transforms.Compose([transforms.Resize(image_size),\n",
    "                                    transforms.ToTensor()])\n",
    "    \n",
    "    \n",
    "  # TODO: Implement function and return a dataloader     \n",
    "            \n",
    "  # Define data set with ImageFolder\n",
    "  dataset = datasets.ImageFolder(data_dir, transform=data_transforms)\n",
    "    \n",
    "  # Create data loader\n",
    "  dataloader = torch.utils.data.DataLoader(dataset, batch_size=batch_size, shuffle=True)\n",
    "  \n",
    "  # Return data loader\n",
    "  return dataloader"
   ]
  },
  {
   "cell_type": "markdown",
   "metadata": {
    "colab_type": "text",
    "id": "DyhfPuuL4t9b"
   },
   "source": [
    "## Create a DataLoader\n",
    "\n",
    "#### Exercise: Create a DataLoader `celeba_train_loader` with appropriate hyperparameters.\n",
    "\n",
    "Call the above function and create a dataloader to view images. \n",
    "* You can decide on any reasonable `batch_size` parameter\n",
    "* Your `image_size` **must be** `32`. Resizing the data to a smaller size will make for faster training, while still creating convincing images of faces!"
   ]
  },
  {
   "cell_type": "code",
   "execution_count": 0,
   "metadata": {
    "colab": {},
    "colab_type": "code",
    "id": "wLzoH8Ei4t9e"
   },
   "outputs": [],
   "source": [
    "# Define function hyperparameters\n",
    "batch_size = 64\n",
    "img_size = 32\n",
    "\n",
    "\"\"\"\n",
    "DON'T MODIFY ANYTHING IN THIS CELL THAT IS BELOW THIS LINE\n",
    "\"\"\"\n",
    "# Call your function and get a dataloader\n",
    "celeba_train_loader = get_dataloader(batch_size, img_size)\n"
   ]
  },
  {
   "cell_type": "markdown",
   "metadata": {
    "colab_type": "text",
    "id": "lNHRSE9Z4t9h"
   },
   "source": [
    "Next, you can view some images! You should seen square images of somewhat-centered faces.\n",
    "\n",
    "Note: You'll need to convert the Tensor images into a NumPy type and transpose the dimensions to correctly display an image, suggested `imshow` code is below, but it may not be perfect."
   ]
  },
  {
   "cell_type": "code",
   "execution_count": 157,
   "metadata": {
    "colab": {
     "base_uri": "https://localhost:8080/",
     "height": 244
    },
    "colab_type": "code",
    "id": "fhcbImFg4t9i",
    "outputId": "c2b39995-1e42-49ce-abe7-36b6ad5f13c8"
   },
   "outputs": [
    {
     "data": {
      "image/png": "[encoded data removed]",
      "text/plain": [
       "<Figure size 1440x288 with 20 Axes>"
      ]
     },
     "metadata": {
      "tags": []
     },
     "output_type": "display_data"
    }
   ],
   "source": [
    "# helper display function\n",
    "def imshow(img):\n",
    "    npimg = img.numpy()\n",
    "    plt.imshow(np.transpose(npimg, (1, 2, 0)))\n",
    "\n",
    "\"\"\"\n",
    "DON'T MODIFY ANYTHING IN THIS CELL THAT IS BELOW THIS LINE\n",
    "\"\"\"\n",
    "# obtain one batch of training images\n",
    "dataiter = iter(celeba_train_loader)\n",
    "images, _ = dataiter.next() # _ for no labels\n",
    "\n",
    "# plot the images in the batch, along with the corresponding labels\n",
    "fig = plt.figure(figsize=(20, 4))\n",
    "plot_size=20\n",
    "for idx in np.arange(plot_size):\n",
    "    ax = fig.add_subplot(2, plot_size/2, idx+1, xticks=[], yticks=[])\n",
    "    imshow(images[idx])"
   ]
  },
  {
   "cell_type": "markdown",
   "metadata": {
    "colab_type": "text",
    "id": "rR099xIu4t9l"
   },
   "source": [
    "#### Exercise: Pre-process your image data and scale it to a pixel range of -1 to 1\n",
    "\n",
    "You need to do a bit of pre-processing; you know that the output of a `tanh` activated generator will contain pixel values in a range from -1 to 1, and so, we need to rescale our training images to a range of -1 to 1. (Right now, they are in a range from 0-1.)"
   ]
  },
  {
   "cell_type": "code",
   "execution_count": 0,
   "metadata": {
    "colab": {},
    "colab_type": "code",
    "id": "BaonI9oM4t9m"
   },
   "outputs": [],
   "source": [
    "# TODO: Complete the scale function\n",
    "def scale(x, feature_range=(-1, 1)):\n",
    "    ''' Scale takes in an image x and returns that image, scaled\n",
    "       with a feature_range of pixel values from -1 to 1. \n",
    "       This function assumes that the input x is already scaled from 0-1.'''\n",
    "    # assume x is scaled to (0, 1)\n",
    "    # scale to feature_range and return scaled x\n",
    "    min, max = feature_range\n",
    "    x = x * (max - min) + min\n",
    "    \n",
    "    # Return scaled x:\n",
    "    return x"
   ]
  },
  {
   "cell_type": "code",
   "execution_count": 159,
   "metadata": {
    "colab": {
     "base_uri": "https://localhost:8080/",
     "height": 51
    },
    "colab_type": "code",
    "id": "BAVKKths4t9o",
    "outputId": "11f96083-0496-40da-ba56-52e6640a51a4"
   },
   "outputs": [
    {
     "name": "stdout",
     "output_type": "stream",
     "text": [
      "Min:  tensor(-1.)\n",
      "Max:  tensor(1.)\n"
     ]
    }
   ],
   "source": [
    "\"\"\"\n",
    "DON'T MODIFY ANYTHING IN THIS CELL THAT IS BELOW THIS LINE\n",
    "\"\"\"\n",
    "# check scaled range\n",
    "# should be close to -1 to 1\n",
    "img = images[0]\n",
    "scaled_img = scale(img)\n",
    "\n",
    "print('Min: ', scaled_img.min())\n",
    "print('Max: ', scaled_img.max())"
   ]
  },
  {
   "cell_type": "markdown",
   "metadata": {
    "colab_type": "text",
    "id": "AcMhOhrr4t9r"
   },
   "source": [
    "---\n",
    "# Define the Model\n",
    "\n",
    "A GAN is comprised of two adversarial networks, a discriminator and a generator.\n",
    "\n",
    "## Discriminator\n",
    "\n",
    "Your first task will be to define the discriminator. This is a convolutional classifier like you've built before, only without any maxpooling layers. To deal with this complex data, it's suggested you use a deep network with **normalization**. You are also allowed to create any helper functions that may be useful.\n",
    "\n",
    "#### Exercise: Complete the Discriminator class\n",
    "* The inputs to the discriminator are 32x32x3 tensor images\n",
    "* The output should be a single value that will indicate whether a given image is real or fake\n"
   ]
  },
  {
   "cell_type": "code",
   "execution_count": 0,
   "metadata": {
    "colab": {},
    "colab_type": "code",
    "id": "X7NrPsBc4t9s"
   },
   "outputs": [],
   "source": [
    "import torch.nn as nn\n",
    "import torch.nn.functional as F\n",
    "from torch.nn import Conv2d, BatchNorm2d, ConvTranspose2d, Linear, BCEWithLogitsLoss"
   ]
  },
  {
   "cell_type": "code",
   "execution_count": 0,
   "metadata": {
    "colab": {},
    "colab_type": "code",
    "id": "-4LxQ8w84Jp1"
   },
   "outputs": [],
   "source": [
    "from torch.nn.functional import leaky_relu, relu, tanh"
   ]
  },
  {
   "cell_type": "code",
   "execution_count": 0,
   "metadata": {
    "colab": {},
    "colab_type": "code",
    "id": "GSiHuoWq3Y_6"
   },
   "outputs": [],
   "source": [
    "# Helper conv function:\n",
    "\n",
    "def conv(in_channels, out_channels, kernel_size, stride=2, padding=1, batch_norm=True):\n",
    "    \"\"\"\n",
    "    Creates a convolutional layer, with optional batch normalization.\n",
    "    \"\"\"\n",
    "    \n",
    "    # Initialize layers:\n",
    "    layers = []\n",
    "    \n",
    "    # Define convolutional layer:\n",
    "    conv_layer = Conv2d(in_channels=in_channels, out_channels=out_channels,\n",
    "                        kernel_size=kernel_size, stride=stride, padding=padding, bias=False)\n",
    "    \n",
    "    # Add convolutional layer to layers:\n",
    "    layers.append(conv_layer)\n",
    "\n",
    "    # Add batch normalization layer:\n",
    "    if batch_norm:\n",
    "        layers.append(BatchNorm2d(out_channels))\n",
    "    \n",
    "    # Return layers:\n",
    "    return nn.Sequential(*layers)"
   ]
  },
  {
   "cell_type": "code",
   "execution_count": 176,
   "metadata": {
    "colab": {
     "base_uri": "https://localhost:8080/",
     "height": 34
    },
    "colab_type": "code",
    "id": "HM8l8M7n4t9u",
    "outputId": "0b827bb7-9989-49a6-cc90-1009a67f78ea"
   },
   "outputs": [
    {
     "name": "stdout",
     "output_type": "stream",
     "text": [
      "Tests Passed\n"
     ]
    }
   ],
   "source": [
    "class Discriminator(nn.Module):\n",
    "\n",
    "    def __init__(self, conv_dim):\n",
    "        \"\"\"\n",
    "        Initialize the Discriminator Module\n",
    "        :param conv_dim: The depth of the first convolutional layer\n",
    "        \"\"\"\n",
    "        super(Discriminator, self).__init__()\n",
    "\n",
    "        # Convolutional layers:\n",
    "        self.conv_1 = conv(3, conv_dim, 4, batch_norm=False)\n",
    "        self.conv_2 = conv(conv_dim, conv_dim*2, 4)\n",
    "        self.conv_3 = conv(conv_dim*2, conv_dim*4, 4)\n",
    "        self.conv_4 = conv(conv_dim*4, conv_dim*8, 4)\n",
    "        \n",
    "        # Classification layer:\n",
    "        self.conv_5 = conv(conv_dim*8, 1, kernel_size=4, stride=1, batch_norm=False)\n",
    "\n",
    "    def forward(self, x):\n",
    "        \"\"\"\n",
    "        Forward propagation of the neural network\n",
    "        :param x: The input to the neural network     \n",
    "        :return: Discriminator logits; the output of the neural network\n",
    "        \"\"\"\n",
    "        # define feedforward behavior\n",
    "        # Leaky ReLU applied to all convolutional layers but last:\n",
    "        out = leaky_relu(self.conv_1(x), 0.2)\n",
    "        out = leaky_relu(self.conv_2(out), 0.2)\n",
    "        out = leaky_relu(self.conv_3(out), 0.2)\n",
    "        out = leaky_relu(self.conv_4(out), 0.2)\n",
    "        \n",
    "        # Last, classification layer:\n",
    "        out = self.conv_5(out)\n",
    "        out = out.view(-1, 1)\n",
    "        \n",
    "        # Return output of the neural network:\n",
    "        return out\n",
    "\n",
    "\"\"\"\n",
    "DON'T MODIFY ANYTHING IN THIS CELL THAT IS BELOW THIS LINE\n",
    "\"\"\"\n",
    "tests.test_discriminator(Discriminator)"
   ]
  },
  {
   "cell_type": "code",
   "execution_count": 0,
   "metadata": {
    "colab": {},
    "colab_type": "code",
    "id": "te7nbYF9Tt5p"
   },
   "outputs": [],
   "source": []
  },
  {
   "cell_type": "markdown",
   "metadata": {
    "colab_type": "text",
    "id": "-rTtD8rK4t9w"
   },
   "source": [
    "## Generator\n",
    "\n",
    "The generator should upsample an input and generate a *new* image of the same size as our training data `32x32x3`. This should be mostly transpose convolutional layers with normalization applied to the outputs.\n",
    "\n",
    "#### Exercise: Complete the Generator class\n",
    "* The inputs to the generator are vectors of some length `z_size`\n",
    "* The output should be a image of shape `32x32x3`"
   ]
  },
  {
   "cell_type": "code",
   "execution_count": 0,
   "metadata": {
    "colab": {},
    "colab_type": "code",
    "id": "PHOjIZYinmnC"
   },
   "outputs": [],
   "source": [
    "from torch.nn.functional import leaky_relu, relu, tanh"
   ]
  },
  {
   "cell_type": "code",
   "execution_count": 0,
   "metadata": {
    "colab": {},
    "colab_type": "code",
    "id": "oF7CFcKb4UN3"
   },
   "outputs": [],
   "source": [
    "# Helper deconv function:\n",
    "\n",
    "def deconv(in_channels, out_channels, kernel_size, stride=2, padding=1, batch_norm=True, output_padding=0):\n",
    "    \"\"\"\n",
    "    Creates a transposed-convolutional layer, with optional batch normalization.\n",
    "    \"\"\"\n",
    "    \n",
    "    # Initialize layers:\n",
    "    layers = []\n",
    "    \n",
    "    # Define transpose convolutional layer:\n",
    "    transpose_conv_layer = ConvTranspose2d(in_channels, out_channels, kernel_size,\n",
    "                                           stride, padding, output_padding, bias=False)\n",
    "    \n",
    "    # Add transpose convolutional layer to layers:\n",
    "    layers.append(transpose_conv_layer)\n",
    "    \n",
    "    # Add batch normalization layer:\n",
    "    if batch_norm:\n",
    "        layers.append(BatchNorm2d(out_channels))\n",
    "    \n",
    "    # Return layers:\n",
    "    return nn.Sequential(*layers)"
   ]
  },
  {
   "cell_type": "code",
   "execution_count": 179,
   "metadata": {
    "colab": {
     "base_uri": "https://localhost:8080/",
     "height": 68
    },
    "colab_type": "code",
    "id": "PyDQH7OL4t9x",
    "outputId": "6ec5f54f-50c8-4161-f319-33a28bc61ae2"
   },
   "outputs": [
    {
     "name": "stdout",
     "output_type": "stream",
     "text": [
      "Tests Passed\n"
     ]
    },
    {
     "name": "stderr",
     "output_type": "stream",
     "text": [
      "/usr/local/lib/python3.6/dist-packages/torch/nn/functional.py:1320: UserWarning: nn.functional.tanh is deprecated. Use torch.tanh instead.\n",
      "  warnings.warn(\"nn.functional.tanh is deprecated. Use torch.tanh instead.\")\n"
     ]
    }
   ],
   "source": [
    "class Generator(nn.Module):\n",
    "    \n",
    "    def __init__(self, z_size, conv_dim):\n",
    "        \"\"\"\n",
    "        Initialize the Generator Module\n",
    "        :param z_size: The length of the input latent vector, z\n",
    "        :param conv_dim: The depth of the inputs to the *last* transpose convolutional layer\n",
    "        \"\"\"\n",
    "        super(Generator, self).__init__()\n",
    "\n",
    "        self.conv_dim = conv_dim\n",
    "        \n",
    "        self.fc = Linear(z_size, conv_dim*16*2*2)\n",
    "        \n",
    "        # Transpose convolutional layers:\n",
    "        self.t_conv_1 = deconv(conv_dim*16, conv_dim*8, 5, stride=2, padding=2, output_padding=1)\n",
    "        self.t_conv_2 = deconv(conv_dim*8, conv_dim*4, 5, stride=2, padding=2, output_padding=1)\n",
    "        self.t_conv_3 = deconv(conv_dim*4, conv_dim*2, 5, stride=2, padding=2, output_padding=1)\n",
    "        self.t_conv_4 = deconv(conv_dim*2, 3, 5, stride=2, padding=2, output_padding=1, batch_norm=False)\n",
    "        \n",
    "\n",
    "    def forward(self, x):\n",
    "        \"\"\"\n",
    "        Forward propagation of the neural network\n",
    "        :param x: The input to the neural network     \n",
    "        :return: A 32x32x3 Tensor image as output\n",
    "        \"\"\"\n",
    "        out = self.fc(x)\n",
    "        \n",
    "        out = out.view(-1, self.conv_dim*16, 2, 2)\n",
    "        \n",
    "        # Transpose convolutional layers with ReLU activation function:\n",
    "        out = relu(self.t_conv_1(out))\n",
    "        out = relu(self.t_conv_2(out))\n",
    "        out = relu(self.t_conv_3(out))\n",
    "\n",
    "        # Last layer with Tanh activation function:\n",
    "        out = self.t_conv_4(out)\n",
    "        out = tanh(out)\n",
    "        \n",
    "        # Return a 32x32x3 Tensor image as output:\n",
    "        return out\n",
    "\n",
    "\n",
    "\"\"\"\n",
    "DON'T MODIFY ANYTHING IN THIS CELL THAT IS BELOW THIS LINE\n",
    "\"\"\"\n",
    "tests.test_generator(Generator)\n"
   ]
  },
  {
   "cell_type": "code",
   "execution_count": 0,
   "metadata": {
    "colab": {},
    "colab_type": "code",
    "id": "1eX5UDWC3WYF"
   },
   "outputs": [],
   "source": []
  },
  {
   "cell_type": "markdown",
   "metadata": {
    "colab_type": "text",
    "id": "-mh8_KE_4t9z"
   },
   "source": [
    "## Initialize the weights of your networks\n",
    "\n",
    "To help your models converge, you should initialize the weights of the convolutional and linear layers in your model. From reading the [original DCGAN paper](https://arxiv.org/pdf/1511.06434.pdf), they say:\n",
    "> All weights were initialized from a zero-centered Normal distribution with standard deviation 0.02.\n",
    "\n",
    "So, your next task will be to define a weight initialization function that does just this!\n",
    "\n",
    "You can refer back to the lesson on weight initialization or even consult existing model code, such as that from [the `networks.py` file in CycleGAN Github repository](https://github.com/junyanz/pytorch-CycleGAN-and-pix2pix/blob/master/models/networks.py) to help you complete this function.\n",
    "\n",
    "#### Exercise: Complete the weight initialization function\n",
    "\n",
    "* This should initialize only **convolutional** and **linear** layers\n",
    "* Initialize the weights to a normal distribution, centered around 0, with a standard deviation of 0.02.\n",
    "* The bias terms, if they exist, may be left alone or set to 0."
   ]
  },
  {
   "cell_type": "code",
   "execution_count": 0,
   "metadata": {
    "colab": {},
    "colab_type": "code",
    "id": "QZi_oTeL4t9z"
   },
   "outputs": [],
   "source": [
    "def weights_init_normal(m):\n",
    "    \"\"\"\n",
    "    Applies initial weights to certain layers in a model .\n",
    "    The weights are taken from a normal distribution \n",
    "    with mean = 0, std dev = 0.02.\n",
    "    :param m: A module or layer in a network    \n",
    "    \"\"\"\n",
    "    # classname will be something like:\n",
    "    # `Conv`, `BatchNorm2d`, `Linear`, etc.\n",
    "    classname = m.__class__.__name__\n",
    "    \n",
    "    # TODO: Apply initial weights only to convolutional and linear layers\n",
    "    if classname.find('Conv') != -1 or classname.find('Linear') != -1:\n",
    "        m.weight.data.normal_(0., 0.02)\n",
    "        \n",
    "        # Set bias term to 0.\n",
    "        if hasattr(m, 'bias') and m.bias is not None:\n",
    "            m.bias.data.fill_(0.)\n",
    "    "
   ]
  },
  {
   "cell_type": "markdown",
   "metadata": {
    "colab_type": "text",
    "collapsed": true,
    "id": "aOG0tUhR4t91"
   },
   "source": [
    "## Build complete network\n",
    "\n",
    "Define your models' hyperparameters and instantiate the discriminator and generator from the classes defined above. Make sure you've passed in the correct input arguments."
   ]
  },
  {
   "cell_type": "code",
   "execution_count": 0,
   "metadata": {
    "colab": {},
    "colab_type": "code",
    "id": "AhJrT_Z54t92"
   },
   "outputs": [],
   "source": [
    "\"\"\"\n",
    "DON'T MODIFY ANYTHING IN THIS CELL THAT IS BELOW THIS LINE\n",
    "\"\"\"\n",
    "def build_network(d_conv_dim, g_conv_dim, z_size):\n",
    "    # define discriminator and generator\n",
    "    D = Discriminator(d_conv_dim)\n",
    "    G = Generator(z_size=z_size, conv_dim=g_conv_dim)\n",
    "\n",
    "    # initialize model weights\n",
    "    D.apply(weights_init_normal)\n",
    "    G.apply(weights_init_normal)\n",
    "\n",
    "    print(D)\n",
    "    print()\n",
    "    print(G)\n",
    "    \n",
    "    return D, G\n"
   ]
  },
  {
   "cell_type": "markdown",
   "metadata": {
    "colab_type": "text",
    "id": "-qW1XJvq4t94"
   },
   "source": [
    "#### Exercise: Define model hyperparameters"
   ]
  },
  {
   "cell_type": "code",
   "execution_count": 182,
   "metadata": {
    "colab": {
     "base_uri": "https://localhost:8080/",
     "height": 680
    },
    "colab_type": "code",
    "id": "7KJfXxVF4t94",
    "outputId": "a59e1452-ee47-40e2-d19e-c4fe1ef9af42"
   },
   "outputs": [
    {
     "name": "stdout",
     "output_type": "stream",
     "text": [
      "Discriminator(\n",
      "  (conv_1): Sequential(\n",
      "    (0): Conv2d(3, 64, kernel_size=(4, 4), stride=(2, 2), padding=(1, 1), bias=False)\n",
      "  )\n",
      "  (conv_2): Sequential(\n",
      "    (0): Conv2d(64, 128, kernel_size=(4, 4), stride=(2, 2), padding=(1, 1), bias=False)\n",
      "    (1): BatchNorm2d(128, eps=1e-05, momentum=0.1, affine=True, track_running_stats=True)\n",
      "  )\n",
      "  (conv_3): Sequential(\n",
      "    (0): Conv2d(128, 256, kernel_size=(4, 4), stride=(2, 2), padding=(1, 1), bias=False)\n",
      "    (1): BatchNorm2d(256, eps=1e-05, momentum=0.1, affine=True, track_running_stats=True)\n",
      "  )\n",
      "  (conv_4): Sequential(\n",
      "    (0): Conv2d(256, 512, kernel_size=(4, 4), stride=(2, 2), padding=(1, 1), bias=False)\n",
      "    (1): BatchNorm2d(512, eps=1e-05, momentum=0.1, affine=True, track_running_stats=True)\n",
      "  )\n",
      "  (conv_5): Sequential(\n",
      "    (0): Conv2d(512, 1, kernel_size=(4, 4), stride=(1, 1), padding=(1, 1), bias=False)\n",
      "  )\n",
      ")\n",
      "\n",
      "Generator(\n",
      "  (fc): Linear(in_features=100, out_features=4096, bias=True)\n",
      "  (t_conv_1): Sequential(\n",
      "    (0): ConvTranspose2d(1024, 512, kernel_size=(5, 5), stride=(2, 2), padding=(2, 2), output_padding=(1, 1), bias=False)\n",
      "    (1): BatchNorm2d(512, eps=1e-05, momentum=0.1, affine=True, track_running_stats=True)\n",
      "  )\n",
      "  (t_conv_2): Sequential(\n",
      "    (0): ConvTranspose2d(512, 256, kernel_size=(5, 5), stride=(2, 2), padding=(2, 2), output_padding=(1, 1), bias=False)\n",
      "    (1): BatchNorm2d(256, eps=1e-05, momentum=0.1, affine=True, track_running_stats=True)\n",
      "  )\n",
      "  (t_conv_3): Sequential(\n",
      "    (0): ConvTranspose2d(256, 128, kernel_size=(5, 5), stride=(2, 2), padding=(2, 2), output_padding=(1, 1), bias=False)\n",
      "    (1): BatchNorm2d(128, eps=1e-05, momentum=0.1, affine=True, track_running_stats=True)\n",
      "  )\n",
      "  (t_conv_4): Sequential(\n",
      "    (0): ConvTranspose2d(128, 3, kernel_size=(5, 5), stride=(2, 2), padding=(2, 2), output_padding=(1, 1), bias=False)\n",
      "  )\n",
      ")\n"
     ]
    }
   ],
   "source": [
    "# Define model hyperparams\n",
    "d_conv_dim = 64\n",
    "g_conv_dim = 64\n",
    "z_size = 100\n",
    "\n",
    "\"\"\"\n",
    "DON'T MODIFY ANYTHING IN THIS CELL THAT IS BELOW THIS LINE\n",
    "\"\"\"\n",
    "D, G = build_network(d_conv_dim, g_conv_dim, z_size)"
   ]
  },
  {
   "cell_type": "markdown",
   "metadata": {
    "colab_type": "text",
    "id": "eRWSljmm4t96"
   },
   "source": [
    "### Training on GPU\n",
    "\n",
    "Check if you can train on GPU. Here, we'll set this as a boolean variable `train_on_gpu`. Later, you'll be responsible for making sure that \n",
    ">* Models,\n",
    "* Model inputs, and\n",
    "* Loss function arguments\n",
    "\n",
    "Are moved to GPU, where appropriate."
   ]
  },
  {
   "cell_type": "code",
   "execution_count": 183,
   "metadata": {
    "colab": {
     "base_uri": "https://localhost:8080/",
     "height": 34
    },
    "colab_type": "code",
    "id": "jD499TwW4t97",
    "outputId": "382594c0-b847-4ebe-e817-76cd83ca9e22"
   },
   "outputs": [
    {
     "name": "stdout",
     "output_type": "stream",
     "text": [
      "Training on GPU!\n"
     ]
    }
   ],
   "source": [
    "\"\"\"\n",
    "DON'T MODIFY ANYTHING IN THIS CELL\n",
    "\"\"\"\n",
    "import torch\n",
    "\n",
    "# Check for a GPU\n",
    "train_on_gpu = torch.cuda.is_available()\n",
    "if not train_on_gpu:\n",
    "    print('No GPU found. Please use a GPU to train your neural network.')\n",
    "else:\n",
    "    print('Training on GPU!')"
   ]
  },
  {
   "cell_type": "markdown",
   "metadata": {
    "colab_type": "text",
    "id": "KlECCKL94t98"
   },
   "source": [
    "---\n",
    "## Discriminator and Generator Losses\n",
    "\n",
    "Now we need to calculate the losses for both types of adversarial networks.\n",
    "\n",
    "### Discriminator Losses\n",
    "\n",
    "> * For the discriminator, the total loss is the sum of the losses for real and fake images, `d_loss = d_real_loss + d_fake_loss`. \n",
    "* Remember that we want the discriminator to output 1 for real images and 0 for fake images, so we need to set up the losses to reflect that.\n",
    "\n",
    "\n",
    "### Generator Loss\n",
    "\n",
    "The generator loss will look similar only with flipped labels. The generator's goal is to get the discriminator to *think* its generated images are *real*.\n",
    "\n",
    "#### Exercise: Complete real and fake loss functions\n",
    "\n",
    "**You may choose to use either cross entropy or a least squares error loss to complete the following `real_loss` and `fake_loss` functions.**"
   ]
  },
  {
   "cell_type": "code",
   "execution_count": 0,
   "metadata": {
    "colab": {},
    "colab_type": "code",
    "id": "TmqG7_mk4t99"
   },
   "outputs": [],
   "source": [
    "def real_loss(D_out, smooth=False):\n",
    "    '''Calculates how close discriminator outputs are to being real.\n",
    "       param, D_out: discriminator logits\n",
    "       return: real loss'''\n",
    "    batch_size = D_out.size(0)\n",
    "    \n",
    "    # label smoothing\n",
    "    if smooth:\n",
    "        # smooth, real labels = 0.9\n",
    "        labels = torch.ones(batch_size)*0.9\n",
    "    else:\n",
    "        labels = torch.ones(batch_size) # real labels = 1\n",
    "    \n",
    "    if train_on_gpu:\n",
    "        labels = labels.cuda()\n",
    "        \n",
    "    # Binary cross entropy with logits loss for numerically stable loss   \n",
    "    criterion = nn.BCEWithLogitsLoss()\n",
    "\n",
    "    # Calculate loss    \n",
    "    loss = criterion(D_out.squeeze(), labels)\n",
    "    \n",
    "    return loss\n",
    "\n",
    "def fake_loss(D_out):\n",
    "    '''Calculates how close discriminator outputs are to being fake.\n",
    "       param, D_out: discriminator logits\n",
    "       return: fake loss'''\n",
    "    batch_size = D_out.size(0)\n",
    "    \n",
    "    # Fake labels\n",
    "    labels = torch.zeros(batch_size) # fake labels = 0\n",
    "    \n",
    "    if train_on_gpu:\n",
    "        labels = labels.cuda()\n",
    "\n",
    "    # Binary cross entropy with logits loss    \n",
    "    criterion = nn.BCEWithLogitsLoss()\n",
    "\n",
    "    # Calculate loss    \n",
    "    loss = criterion(D_out.squeeze(), labels)\n",
    "    \n",
    "    return loss"
   ]
  },
  {
   "cell_type": "markdown",
   "metadata": {
    "colab_type": "text",
    "id": "RxO1pW644t9-"
   },
   "source": [
    "## Optimizers\n",
    "\n",
    "#### Exercise: Define optimizers for your Discriminator (D) and Generator (G)\n",
    "\n",
    "Define optimizers for your models with appropriate hyperparameters."
   ]
  },
  {
   "cell_type": "code",
   "execution_count": 0,
   "metadata": {
    "colab": {},
    "colab_type": "code",
    "id": "BNsarrrIoGNC"
   },
   "outputs": [],
   "source": [
    "from torch.optim import Adam"
   ]
  },
  {
   "cell_type": "code",
   "execution_count": 0,
   "metadata": {
    "colab": {},
    "colab_type": "code",
    "id": "GtmU7KoE4t9_"
   },
   "outputs": [],
   "source": [
    "import torch.optim as optim\n",
    "\n",
    "# Learning rate for optimizers\n",
    "lr = 0.0002\n",
    "\n",
    "# Beta1 hyperparam for Adam optimizers\n",
    "beta1 = 0.3\n",
    "beta2 = 0.999\n",
    "\n",
    "# Create optimizers for the discriminator D and generator G\n",
    "d_optimizer = Adam(D.parameters(), lr, [beta1, beta2])\n",
    "g_optimizer = Adam(G.parameters(), lr, [beta1, beta2])"
   ]
  },
  {
   "cell_type": "markdown",
   "metadata": {
    "colab_type": "text",
    "id": "3CQphQtO4t-B"
   },
   "source": [
    "---\n",
    "## Training\n",
    "\n",
    "Training will involve alternating between training the discriminator and the generator. You'll use your functions `real_loss` and `fake_loss` to help you calculate the discriminator losses.\n",
    "\n",
    "* You should train the discriminator by alternating on real and fake images\n",
    "* Then the generator, which tries to trick the discriminator and should have an opposing loss function\n",
    "\n",
    "\n",
    "#### Saving Samples\n",
    "\n",
    "You've been given some code to print out some loss statistics and save some generated \"fake\" samples."
   ]
  },
  {
   "cell_type": "markdown",
   "metadata": {
    "colab_type": "text",
    "id": "BxoGjZzv4t-B"
   },
   "source": [
    "#### Exercise: Complete the training function\n",
    "\n",
    "Keep in mind that, if you've moved your models to GPU, you'll also have to move any model inputs to GPU."
   ]
  },
  {
   "cell_type": "code",
   "execution_count": 0,
   "metadata": {
    "colab": {},
    "colab_type": "code",
    "id": "OXdOx8qH4t-C"
   },
   "outputs": [],
   "source": [
    "def train(D, G, n_epochs, print_every=50):\n",
    "    '''Trains adversarial networks for some number of epochs\n",
    "       param, D: the discriminator network\n",
    "       param, G: the generator network\n",
    "       param, n_epochs: number of epochs to train for\n",
    "       param, print_every: when to print and record the models' losses\n",
    "       return: D and G losses'''\n",
    "    \n",
    "    # move models to GPU\n",
    "    if train_on_gpu:\n",
    "        D.cuda()\n",
    "        G.cuda()\n",
    "\n",
    "    # keep track of loss and generated, \"fake\" samples\n",
    "    samples = []\n",
    "    losses = []\n",
    "\n",
    "    # Get some fixed data for sampling. These are images that are held\n",
    "    # constant throughout training, and allow us to inspect the model's performance\n",
    "    sample_size=16\n",
    "    fixed_z = np.random.uniform(-1, 1, size=(sample_size, z_size))\n",
    "    fixed_z = torch.from_numpy(fixed_z).float()\n",
    "    # move z to GPU if available\n",
    "    if train_on_gpu:\n",
    "        fixed_z = fixed_z.cuda()\n",
    "\n",
    "    # epoch training loop\n",
    "    for epoch in range(n_epochs):\n",
    "\n",
    "        # batch training loop\n",
    "        for batch_i, (real_images, _) in enumerate(celeba_train_loader):\n",
    "\n",
    "            batch_size = real_images.size(0)\n",
    "            \n",
    "            # Rescaling\n",
    "            real_images = scale(real_images)\n",
    "\n",
    "            # =================================================\n",
    "            #         YOUR CODE HERE: TRAIN THE NETWORKS\n",
    "            # =================================================\n",
    "            \n",
    "            # ==================================================\n",
    "            # 1. Train the DISCRIMINATOR on real and fake images\n",
    "            # ==================================================\n",
    "            \n",
    "            if train_on_gpu:\n",
    "                real_images = real_images.cuda()\n",
    "            \n",
    "            d_optimizer.zero_grad()\n",
    "            \n",
    "            # 1. Train with real images\n",
    "            \n",
    "            # Compute the discriminator losses on real images \n",
    "            # smooth the real labels\n",
    "            \n",
    "            d_real = D(real_images)\n",
    "            \n",
    "            d_real_loss = real_loss(d_real, smooth=True)\n",
    "            \n",
    "            # 2. Train with fake images\n",
    "            \n",
    "            # Generate fake images\n",
    "            z = np.random.uniform(-1, 1, size=(batch_size, z_size))\n",
    "            z = torch.from_numpy(z).float()\n",
    "            \n",
    "            if train_on_gpu:\n",
    "                z = z.cuda()\n",
    "                \n",
    "            fake_images = G(z)\n",
    "            \n",
    "            # Compute the discriminator losses on fake images        \n",
    "            D_fake = D(fake_images)\n",
    "            d_fake_loss = fake_loss(D_fake)\n",
    "            \n",
    "            # add up loss and perform backprop\n",
    "            d_loss = d_real_loss + d_fake_loss\n",
    "            d_loss.backward()\n",
    "            d_optimizer.step()\n",
    "            \n",
    "\n",
    "            # ==================================================\n",
    "            # 2. Train the GENERATOR with an adversarial loss\n",
    "            # ==================================================\n",
    "            \n",
    "            g_optimizer.zero_grad()\n",
    "            \n",
    "            # 1. Train with fake images and flipped labels\n",
    "        \n",
    "            # Generate fake images\n",
    "            z = np.random.uniform(-1, 1, size=(batch_size, z_size))\n",
    "            z = torch.from_numpy(z).float()\n",
    "            \n",
    "            if train_on_gpu:\n",
    "                z = z.cuda()\n",
    "                \n",
    "            fake_images = G(z)\n",
    "            \n",
    "            # Compute the discriminator losses on fake images \n",
    "            # using flipped labels!\n",
    "            D_fake = D(fake_images)\n",
    "            g_loss = real_loss(D_fake) # use real loss to flip labels\n",
    "            \n",
    "            # perform backprop\n",
    "            g_loss.backward()\n",
    "            g_optimizer.step()\n",
    "            \n",
    "            # ===============================================\n",
    "            #              END OF YOUR CODE\n",
    "            # ===============================================\n",
    "\n",
    "            # Print some loss stats\n",
    "            if batch_i % print_every == 0:\n",
    "                # append discriminator loss and generator loss\n",
    "                losses.append((d_loss.item(), g_loss.item()))\n",
    "                # print discriminator and generator loss\n",
    "                print('Epoch [{:5d}/{:5d}] | d_loss: {:6.4f} | g_loss: {:6.4f}'.format(\n",
    "                        epoch+1, n_epochs, d_loss.item(), g_loss.item()))\n",
    "\n",
    "\n",
    "        ## AFTER EACH EPOCH##    \n",
    "        # this code assumes your generator is named G, feel free to change the name\n",
    "        # generate and save sample, fake images\n",
    "        G.eval() # for generating samples\n",
    "        samples_z = G(fixed_z)\n",
    "        samples.append(samples_z)\n",
    "        G.train() # back to training mode\n",
    "\n",
    "    # Save training generator samples\n",
    "    with open('train_samples.pkl', 'wb') as f:\n",
    "        pkl.dump(samples, f)\n",
    "    \n",
    "    # finally return losses\n",
    "    return losses"
   ]
  },
  {
   "cell_type": "markdown",
   "metadata": {
    "colab_type": "text",
    "id": "p5V-Q0B84t-F"
   },
   "source": [
    "Set your number of training epochs and train your GAN!"
   ]
  },
  {
   "cell_type": "code",
   "execution_count": 188,
   "metadata": {
    "colab": {
     "base_uri": "https://localhost:8080/",
     "height": 2091
    },
    "colab_type": "code",
    "id": "lVPDZdlz4t-G",
    "outputId": "34d430f5-dfea-426c-81e8-a44a271a6ebc"
   },
   "outputs": [
    {
     "name": "stderr",
     "output_type": "stream",
     "text": [
      "/usr/local/lib/python3.6/dist-packages/torch/nn/functional.py:1320: UserWarning: nn.functional.tanh is deprecated. Use torch.tanh instead.\n",
      "  warnings.warn(\"nn.functional.tanh is deprecated. Use torch.tanh instead.\")\n"
     ]
    },
    {
     "name": "stdout",
     "output_type": "stream",
     "text": [
      "Epoch [    1/   40] | d_loss: 1.4006 | g_loss: 1.4021\n",
      "Epoch [    1/   40] | d_loss: 0.7687 | g_loss: 2.2424\n",
      "Epoch [    1/   40] | d_loss: 1.0100 | g_loss: 1.5729\n",
      "Epoch [    2/   40] | d_loss: 0.9657 | g_loss: 1.6965\n",
      "Epoch [    2/   40] | d_loss: 1.1810 | g_loss: 2.2059\n",
      "Epoch [    2/   40] | d_loss: 1.2041 | g_loss: 2.2284\n",
      "Epoch [    3/   40] | d_loss: 1.1017 | g_loss: 1.2797\n",
      "Epoch [    3/   40] | d_loss: 1.1869 | g_loss: 1.9367\n",
      "Epoch [    3/   40] | d_loss: 1.0359 | g_loss: 1.2537\n",
      "Epoch [    4/   40] | d_loss: 1.0823 | g_loss: 1.7146\n",
      "Epoch [    4/   40] | d_loss: 1.0216 | g_loss: 1.6262\n",
      "Epoch [    4/   40] | d_loss: 1.0437 | g_loss: 1.2773\n",
      "Epoch [    5/   40] | d_loss: 1.2218 | g_loss: 0.9336\n",
      "Epoch [    5/   40] | d_loss: 1.0957 | g_loss: 1.3644\n",
      "Epoch [    5/   40] | d_loss: 1.2250 | g_loss: 1.1529\n",
      "Epoch [    6/   40] | d_loss: 1.2285 | g_loss: 1.5680\n",
      "Epoch [    6/   40] | d_loss: 1.0858 | g_loss: 1.0577\n",
      "Epoch [    6/   40] | d_loss: 1.2498 | g_loss: 1.5538\n",
      "Epoch [    7/   40] | d_loss: 1.2402 | g_loss: 1.2343\n",
      "Epoch [    7/   40] | d_loss: 1.2598 | g_loss: 1.3420\n",
      "Epoch [    7/   40] | d_loss: 1.1351 | g_loss: 1.3914\n",
      "Epoch [    8/   40] | d_loss: 1.1387 | g_loss: 1.3565\n",
      "Epoch [    8/   40] | d_loss: 1.2768 | g_loss: 0.9031\n",
      "Epoch [    8/   40] | d_loss: 1.1593 | g_loss: 1.0903\n",
      "Epoch [    9/   40] | d_loss: 1.3196 | g_loss: 0.9505\n",
      "Epoch [    9/   40] | d_loss: 1.2234 | g_loss: 1.1227\n",
      "Epoch [    9/   40] | d_loss: 1.1705 | g_loss: 1.3155\n",
      "Epoch [   10/   40] | d_loss: 1.3011 | g_loss: 0.8767\n",
      "Epoch [   10/   40] | d_loss: 1.1981 | g_loss: 1.3552\n",
      "Epoch [   10/   40] | d_loss: 1.1790 | g_loss: 2.0248\n",
      "Epoch [   11/   40] | d_loss: 1.1703 | g_loss: 1.5740\n",
      "Epoch [   11/   40] | d_loss: 1.2133 | g_loss: 1.0187\n",
      "Epoch [   11/   40] | d_loss: 1.0886 | g_loss: 1.1706\n",
      "Epoch [   12/   40] | d_loss: 1.1239 | g_loss: 2.0588\n",
      "Epoch [   12/   40] | d_loss: 1.1912 | g_loss: 1.2059\n",
      "Epoch [   12/   40] | d_loss: 1.2638 | g_loss: 0.8923\n",
      "Epoch [   13/   40] | d_loss: 1.1097 | g_loss: 1.2268\n",
      "Epoch [   13/   40] | d_loss: 1.1799 | g_loss: 1.3167\n",
      "Epoch [   13/   40] | d_loss: 1.1423 | g_loss: 1.3210\n",
      "Epoch [   14/   40] | d_loss: 1.1574 | g_loss: 1.3380\n",
      "Epoch [   14/   40] | d_loss: 1.5820 | g_loss: 0.5146\n",
      "Epoch [   14/   40] | d_loss: 1.0995 | g_loss: 1.9591\n",
      "Epoch [   15/   40] | d_loss: 1.2147 | g_loss: 1.1226\n",
      "Epoch [   15/   40] | d_loss: 1.1933 | g_loss: 1.6678\n",
      "Epoch [   15/   40] | d_loss: 1.0246 | g_loss: 1.7266\n",
      "Epoch [   16/   40] | d_loss: 1.0432 | g_loss: 1.8763\n",
      "Epoch [   16/   40] | d_loss: 1.1156 | g_loss: 1.1074\n",
      "Epoch [   16/   40] | d_loss: 1.1348 | g_loss: 0.9838\n",
      "Epoch [   17/   40] | d_loss: 1.1860 | g_loss: 1.7798\n",
      "Epoch [   17/   40] | d_loss: 1.0197 | g_loss: 1.5211\n",
      "Epoch [   17/   40] | d_loss: 1.0502 | g_loss: 1.4514\n",
      "Epoch [   18/   40] | d_loss: 1.2955 | g_loss: 1.6894\n",
      "Epoch [   18/   40] | d_loss: 1.1160 | g_loss: 1.1353\n",
      "Epoch [   18/   40] | d_loss: 1.1256 | g_loss: 1.2273\n",
      "Epoch [   19/   40] | d_loss: 1.3087 | g_loss: 1.3737\n",
      "Epoch [   19/   40] | d_loss: 1.1936 | g_loss: 1.5508\n",
      "Epoch [   19/   40] | d_loss: 1.3232 | g_loss: 2.2533\n",
      "Epoch [   20/   40] | d_loss: 1.0164 | g_loss: 1.4789\n",
      "Epoch [   20/   40] | d_loss: 1.4444 | g_loss: 0.5972\n",
      "Epoch [   20/   40] | d_loss: 1.0175 | g_loss: 1.1665\n",
      "Epoch [   21/   40] | d_loss: 1.0039 | g_loss: 1.0667\n",
      "Epoch [   21/   40] | d_loss: 1.3395 | g_loss: 0.8329\n",
      "Epoch [   21/   40] | d_loss: 1.0183 | g_loss: 1.1008\n",
      "Epoch [   22/   40] | d_loss: 1.1482 | g_loss: 1.4726\n",
      "Epoch [   22/   40] | d_loss: 1.0958 | g_loss: 1.3188\n",
      "Epoch [   22/   40] | d_loss: 1.0539 | g_loss: 2.0797\n",
      "Epoch [   23/   40] | d_loss: 1.1104 | g_loss: 1.4575\n",
      "Epoch [   23/   40] | d_loss: 1.0282 | g_loss: 1.4083\n",
      "Epoch [   23/   40] | d_loss: 1.0099 | g_loss: 1.7145\n",
      "Epoch [   24/   40] | d_loss: 1.2979 | g_loss: 1.2835\n",
      "Epoch [   24/   40] | d_loss: 1.1821 | g_loss: 1.8512\n",
      "Epoch [   24/   40] | d_loss: 0.9890 | g_loss: 2.1075\n",
      "Epoch [   25/   40] | d_loss: 1.1776 | g_loss: 1.7603\n",
      "Epoch [   25/   40] | d_loss: 1.1465 | g_loss: 0.9208\n",
      "Epoch [   25/   40] | d_loss: 1.0098 | g_loss: 1.0943\n",
      "Epoch [   26/   40] | d_loss: 0.8847 | g_loss: 1.7503\n",
      "Epoch [   26/   40] | d_loss: 1.0312 | g_loss: 1.4248\n",
      "Epoch [   26/   40] | d_loss: 1.2878 | g_loss: 1.1196\n",
      "Epoch [   27/   40] | d_loss: 0.9078 | g_loss: 1.4269\n",
      "Epoch [   27/   40] | d_loss: 0.8853 | g_loss: 1.2528\n",
      "Epoch [   27/   40] | d_loss: 1.5145 | g_loss: 0.9980\n",
      "Epoch [   28/   40] | d_loss: 1.0136 | g_loss: 2.8643\n",
      "Epoch [   28/   40] | d_loss: 1.0023 | g_loss: 1.7672\n",
      "Epoch [   28/   40] | d_loss: 1.1251 | g_loss: 1.6416\n",
      "Epoch [   29/   40] | d_loss: 0.8366 | g_loss: 1.4945\n",
      "Epoch [   29/   40] | d_loss: 0.8236 | g_loss: 2.1188\n",
      "Epoch [   29/   40] | d_loss: 1.0233 | g_loss: 1.4713\n",
      "Epoch [   30/   40] | d_loss: 1.0800 | g_loss: 2.2450\n",
      "Epoch [   30/   40] | d_loss: 1.0061 | g_loss: 2.7821\n",
      "Epoch [   30/   40] | d_loss: 0.9751 | g_loss: 1.2360\n",
      "Epoch [   31/   40] | d_loss: 1.0221 | g_loss: 1.2923\n",
      "Epoch [   31/   40] | d_loss: 0.8294 | g_loss: 1.7906\n",
      "Epoch [   31/   40] | d_loss: 0.9017 | g_loss: 1.8243\n",
      "Epoch [   32/   40] | d_loss: 0.8636 | g_loss: 1.9280\n",
      "Epoch [   32/   40] | d_loss: 0.9083 | g_loss: 1.4582\n",
      "Epoch [   32/   40] | d_loss: 0.8693 | g_loss: 1.8913\n",
      "Epoch [   33/   40] | d_loss: 1.2543 | g_loss: 2.3701\n",
      "Epoch [   33/   40] | d_loss: 0.7314 | g_loss: 3.2015\n",
      "Epoch [   33/   40] | d_loss: 0.8782 | g_loss: 1.5188\n",
      "Epoch [   34/   40] | d_loss: 0.9113 | g_loss: 1.4340\n",
      "Epoch [   34/   40] | d_loss: 0.8787 | g_loss: 2.0822\n",
      "Epoch [   34/   40] | d_loss: 1.4848 | g_loss: 1.4878\n",
      "Epoch [   35/   40] | d_loss: 0.9376 | g_loss: 1.9693\n",
      "Epoch [   35/   40] | d_loss: 0.7741 | g_loss: 1.6650\n",
      "Epoch [   35/   40] | d_loss: 1.1853 | g_loss: 1.7586\n",
      "Epoch [   36/   40] | d_loss: 0.8705 | g_loss: 1.4207\n",
      "Epoch [   36/   40] | d_loss: 0.6854 | g_loss: 2.1369\n",
      "Epoch [   36/   40] | d_loss: 0.7308 | g_loss: 2.0929\n",
      "Epoch [   37/   40] | d_loss: 0.6475 | g_loss: 2.4954\n",
      "Epoch [   37/   40] | d_loss: 0.7625 | g_loss: 2.2599\n",
      "Epoch [   37/   40] | d_loss: 0.8253 | g_loss: 2.2493\n",
      "Epoch [   38/   40] | d_loss: 0.8345 | g_loss: 2.0849\n",
      "Epoch [   38/   40] | d_loss: 0.7223 | g_loss: 1.4446\n",
      "Epoch [   38/   40] | d_loss: 0.8182 | g_loss: 2.3461\n",
      "Epoch [   39/   40] | d_loss: 1.1943 | g_loss: 1.1603\n",
      "Epoch [   39/   40] | d_loss: 0.7289 | g_loss: 3.3247\n",
      "Epoch [   39/   40] | d_loss: 0.9067 | g_loss: 2.5955\n",
      "Epoch [   40/   40] | d_loss: 0.6992 | g_loss: 2.5494\n",
      "Epoch [   40/   40] | d_loss: 0.8194 | g_loss: 3.4709\n",
      "Epoch [   40/   40] | d_loss: 0.8410 | g_loss: 3.1437\n"
     ]
    }
   ],
   "source": [
    "# set number of epochs \n",
    "n_epochs = 40\n",
    "\n",
    "\n",
    "\n",
    "\"\"\"\n",
    "DON'T MODIFY ANYTHING IN THIS CELL\n",
    "\"\"\"\n",
    "# call training function\n",
    "#with active_session():\n",
    "losses = train(D, G, n_epochs=n_epochs)\n",
    "  "
   ]
  },
  {
   "cell_type": "markdown",
   "metadata": {
    "colab_type": "text",
    "collapsed": true,
    "id": "gHJSJphx4t-I"
   },
   "source": [
    "## Training loss\n",
    "\n",
    "Plot the training losses for the generator and discriminator, recorded after each epoch."
   ]
  },
  {
   "cell_type": "code",
   "execution_count": 189,
   "metadata": {
    "colab": {
     "base_uri": "https://localhost:8080/",
     "height": 297
    },
    "colab_type": "code",
    "id": "0blVa2Vj4t-J",
    "outputId": "608879ea-8c9a-4943-bebd-625bec682501"
   },
   "outputs": [
    {
     "data": {
      "text/plain": [
       "<matplotlib.legend.Legend at 0x7f05f809b5f8>"
      ]
     },
     "execution_count": 189,
     "metadata": {
      "tags": []
     },
     "output_type": "execute_result"
    },
    {
     "data": {
      "image/png": "[encoded data removed]",
      "text/plain": [
       "<Figure size 432x288 with 1 Axes>"
      ]
     },
     "metadata": {
      "tags": []
     },
     "output_type": "display_data"
    }
   ],
   "source": [
    "fig, ax = plt.subplots()\n",
    "losses = np.array(losses)\n",
    "plt.plot(losses.T[0], label='Discriminator', alpha=0.5)\n",
    "plt.plot(losses.T[1], label='Generator', alpha=0.5)\n",
    "plt.title(\"Training Losses\")\n",
    "plt.legend()"
   ]
  },
  {
   "cell_type": "markdown",
   "metadata": {
    "colab_type": "text",
    "collapsed": true,
    "id": "D-D1r9BT4t-K"
   },
   "source": [
    "## Generator samples from training\n",
    "\n",
    "View samples of images from the generator, and answer a question about the strengths and weaknesses of your trained models."
   ]
  },
  {
   "cell_type": "code",
   "execution_count": 0,
   "metadata": {
    "colab": {},
    "colab_type": "code",
    "id": "cZky4KHE4t-L"
   },
   "outputs": [],
   "source": [
    "# helper function for viewing a list of passed in sample images\n",
    "def view_samples(epoch, samples):\n",
    "    fig, axes = plt.subplots(figsize=(16,4), nrows=2, ncols=8, sharey=True, sharex=True)\n",
    "    for ax, img in zip(axes.flatten(), samples[epoch]):\n",
    "        img = img.detach().cpu().numpy()\n",
    "        img = np.transpose(img, (1, 2, 0))\n",
    "        img = ((img + 1)*255 / (2)).astype(np.uint8)\n",
    "        ax.xaxis.set_visible(False)\n",
    "        ax.yaxis.set_visible(False)\n",
    "        im = ax.imshow(img.reshape((32,32,3)))"
   ]
  },
  {
   "cell_type": "code",
   "execution_count": 0,
   "metadata": {
    "colab": {},
    "colab_type": "code",
    "id": "q0G3h7CK4t-M"
   },
   "outputs": [],
   "source": [
    "# Load samples from generator, taken while training\n",
    "with open('train_samples.pkl', 'rb') as f:\n",
    "    samples = pkl.load(f)"
   ]
  },
  {
   "cell_type": "code",
   "execution_count": 191,
   "metadata": {
    "colab": {
     "base_uri": "https://localhost:8080/",
     "height": 244
    },
    "colab_type": "code",
    "id": "MRHSNMeb4t-O",
    "outputId": "c1889062-b6d3-4199-dcbd-910febb82e0b"
   },
   "outputs": [
    {
     "data": {
      "image/png": "[encoded data removed]",
      "text/plain": [
       "<Figure size 1152x288 with 16 Axes>"
      ]
     },
     "metadata": {
      "tags": []
     },
     "output_type": "display_data"
    }
   ],
   "source": [
    "_ = view_samples(-1, samples)"
   ]
  },
  {
   "cell_type": "markdown",
   "metadata": {
    "colab_type": "text",
    "id": "EfXXm_i_4t-P"
   },
   "source": [
    "### Question: What do you notice about your generated samples and how might you improve this model?\n",
    "When you answer this question, consider the following factors:\n",
    "* The dataset is biased; it is made of \"celebrity\" faces that are mostly white\n",
    "* Model size; larger models have the opportunity to learn more features in a data feature space\n",
    "* Optimization strategy; optimizers and number of epochs affect your final result\n"
   ]
  },
  {
   "cell_type": "markdown",
   "metadata": {
    "colab_type": "text",
    "id": "zfETNjT34t-Q"
   },
   "source": [
    "**Answer:** \n",
    "* The dataset is biased; it is made of \"celebrity\" faces that are mostly white\n",
    "It would be beneficial to the model to augment it by adding pictures of celebrities with different skin tones, different ages, facial expressions, and with beauty standards matching different cultures. This way the model would learn to generate faces that are more realistic in so far that they reflect the wide range of facial differences across human beings from different ethnicities and social background. These augmentations could also include accessories such as hair scarves that cover part of the forehead, different sorts of glasses that cover the eyes with different shades of tinted lenses, piercings, and tatoos.  \n",
    "\n",
    "* Model size; larger models have the opportunity to learn more features in a data feature space\n",
    "Adding more layers to the data set could improve better detection of facial features therefore improving the discrimination and generation of more varied faces.\n",
    "\n",
    "* Optimization strategy; optimizers and number of epochs affect your final result\n",
    "The use of different loss functions and optimizers could yield a much different result.\n",
    "I chose to limit the number of training epochs to 50, but I believe that more epochs, such as 100 would lead to an improved model. Better hyperparameters would lead to better convergence.\n",
    "\n"
   ]
  },
  {
   "cell_type": "markdown",
   "metadata": {
    "colab_type": "text",
    "id": "c7tW-3p24t-R"
   },
   "source": [
    "### Submitting This Project\n",
    "When submitting this project, make sure to run all the cells before saving the notebook. Save the notebook file as \"dlnd_face_generation.ipynb\" and save it as a HTML file under \"File\" -> \"Download as\". Include the \"problem_unittests.py\" files in your submission."
   ]
  }
 ],
 "metadata": {
  "accelerator": "GPU",
  "colab": {
   "collapsed_sections": [],
   "name": "Copie de dlnd_face_generation.ipynb",
   "provenance": [],
   "version": "0.3.2"
  },
  "kernelspec": {
   "display_name": "Python 3",
   "language": "python",
   "name": "python3"
  },
  "language_info": {
   "codemirror_mode": {
    "name": "ipython",
    "version": 3
   },
   "file_extension": ".py",
   "mimetype": "text/x-python",
   "name": "python",
   "nbconvert_exporter": "python",
   "pygments_lexer": "ipython3",
   "version": "3.6.8"
  }
 },
 "nbformat": 4,
 "nbformat_minor": 1
}
